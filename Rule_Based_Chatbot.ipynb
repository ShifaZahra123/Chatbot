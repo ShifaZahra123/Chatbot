{
  "nbformat": 4,
  "nbformat_minor": 0,
  "metadata": {
    "colab": {
      "provenance": [],
      "authorship_tag": "ABX9TyMqhAvJdYr/rSfu+Y3uTi07",
      "include_colab_link": true
    },
    "kernelspec": {
      "name": "python3",
      "display_name": "Python 3"
    },
    "language_info": {
      "name": "python"
    }
  },
  "cells": [
    {
      "cell_type": "markdown",
      "metadata": {
        "id": "view-in-github",
        "colab_type": "text"
      },
      "source": [
        "<a href=\"https://colab.research.google.com/github/ShifaZahra123/Chatbot/blob/main/Rule_Based_Chatbot.ipynb\" target=\"_parent\"><img src=\"https://colab.research.google.com/assets/colab-badge.svg\" alt=\"Open In Colab\"/></a>"
      ]
    },
    {
      "cell_type": "code",
      "execution_count": null,
      "metadata": {
        "id": "lz1kqiAAtp4q"
      },
      "outputs": [],
      "source": [
        "import re\n",
        "import random"
      ]
    },
    {
      "cell_type": "code",
      "source": [
        "import re\n",
        "import random\n",
        "\n",
        "class RuleBot:\n",
        "    ### Potential Negative Responses\n",
        "    negative_responses = (\"no\", \"nope\", \"nah\", \"not a chance\", \"sorry\")\n",
        "    ### Exit Conversation Keywords\n",
        "    exit_commands = (\"quit\", \"exit\", \"bye\", \"later\", \"pause\", \"goodbye\")\n",
        "    ### Random starter\n",
        "    random_questions = (\n",
        "        \"Why are you here?\",\n",
        "        \"Are there many humans like you?\",\n",
        "        \"What do you consume for sustenance?\",\n",
        "        \"Does Earth have a leader?\",\n",
        "        \"What do you like to do in your free time?\",\n",
        "        \"What planets have you visited?\",\n",
        "        \"What technology do you have on this planet?\"\n",
        "    )\n",
        "    ### Logic of the entire code\n",
        "    def __init__(self):\n",
        "        self.alienbabble = {\n",
        "            'describe_plannet_intent': r'.*\\byour planet\\b.*',\n",
        "            'answer_why_intent': r'why\\sare.*',\n",
        "            'about_lcwu': r'.*\\blcwu\\b.*',\n",
        "            'about_lcwuadmissions': r'.*\\blcwuadmissions\\b.*'\n",
        "        }\n",
        "\n",
        "    ## For Handling Greeting Scenario\n",
        "    def greet(self):\n",
        "        self.name = input(\"What is your name? \")\n",
        "        will_help = input(f\"Hi {self.name}, I am a Rule-Bot. Will you help me learn about your planet?\\n\")\n",
        "        if will_help.lower() in self.negative_responses:\n",
        "            print(\"Ok, have a nice Earth day!\")\n",
        "            return\n",
        "        self.chat()\n",
        "\n",
        "    ## For Exit Scenario\n",
        "    def make_exit(self, reply):\n",
        "        for command in self.exit_commands:\n",
        "            if reply in command:\n",
        "                print(\"Ok, have a nice Earth day!\")\n",
        "                return True\n",
        "        return False\n",
        "\n",
        "    ## For Chat Scenario\n",
        "    def chat(self):\n",
        "        reply = input(random.choice(self.random_questions) + \" \").lower()\n",
        "        while not self.make_exit(reply):\n",
        "            reply = input(self.match_reply(reply)).lower()\n",
        "\n",
        "    ## For Matching Chat\n",
        "    def match_reply(self, reply):\n",
        "        for key, value in self.alienbabble.items():\n",
        "            intent = key\n",
        "            regex_pattern = value\n",
        "            found_match = re.match(regex_pattern, reply)\n",
        "            if found_match:\n",
        "                if intent == 'describe_plannet_intent':\n",
        "                    return self.describe_plannet_intent()\n",
        "                elif intent == 'answer_why_intent':\n",
        "                    return self.answer_why_intent()\n",
        "                elif intent == 'about_lcwu':\n",
        "                    return self.about_lcwu()\n",
        "                elif intent == 'about_lcwuadmissions':\n",
        "                    return self.about_lcwuadmissions()\n",
        "        return self.no_match_intent()\n",
        "\n",
        "    ## Alien's Bot Planet\n",
        "    def describe_plannet_intent(self):\n",
        "        responses = (\"My planet is a utopia of diverse organisms and species.\\n\",\n",
        "                     \"I am from Opidipus, the capital of the Wayward Galaxies.\\n\")\n",
        "        return random.choice(responses)\n",
        "\n",
        "    def answer_why_intent(self):\n",
        "        responses = (\"I come in peace.\\nI am here to collect data on your planet and its inhabitants.\\n\",\n",
        "                     \"I heard the coffee is good.\\n\")\n",
        "        return random.choice(responses)\n",
        "\n",
        "    def about_lcwu(self):\n",
        "        responses = (\"Lahore College for Women University is Asia's biggest women's university.\\n\",\n",
        "                     \"Its teachers are known for being talented, cooperative, and skilled.\\n\")\n",
        "        return random.choice(responses) + \" Would you like to know more about LCWU?\\n\"\n",
        "\n",
        "    def about_lcwuadmissions(self):\n",
        "        responses = (\"Admissions at LCWU are currently ongoing.\\n\",\n",
        "                     \"The process of accepting applications or allowing people to enroll in LCWU is currently happening.\\n\",\n",
        "                     \"Individuals have the opportunity to apply or enroll at this time.\\n\")\n",
        "        return random.choice(responses)\n",
        "\n",
        "    def no_match_intent(self):\n",
        "        responses = (\"Please tell me more.\\n\", \"Tell me more.\\n\", \"Why did you say that?\\n\", \"I see. Can you elaborate?\\n\",\n",
        "                     \"Interesting. Can you tell me more?\\n\", \"I see.\\n\", \"How did you think?\\n\", \"Why?\\n\",\n",
        "                     \"How do you think I feel when you say that?\\n\")\n",
        "        return random.choice(responses)\n",
        "\n",
        "AlienBot = RuleBot()\n",
        "AlienBot.greet()\n"
      ],
      "metadata": {
        "colab": {
          "base_uri": "https://localhost:8080/"
        },
        "id": "LvROLN5UvzqJ",
        "outputId": "7468f6ad-4b19-41e5-cec1-f62190307829"
      },
      "execution_count": null,
      "outputs": [
        {
          "output_type": "stream",
          "name": "stdout",
          "text": [
            "What is your name? Shifa\n",
            "Hi Shifa, I am a Rule-Bot. Will you help me learn about your planet?\n",
            "yes\n",
            "Why are you here? me\n",
            "How did you think?\n",
            "Tell me about admissions\n",
            "Why did you say that?\n",
            "tell me about lcwuadmissions\n",
            "Individuals have the opportunity to apply or enroll at this time.\n",
            "tell me something more about lcwuadmissions\n",
            "Admissions at LCWU are currently ongoing.\n",
            "something about lcwu\n",
            "Lahore College for Women University is Asia's biggest women's university.\n",
            " Would you like to know more about LCWU?\n",
            "something about why u are asking these questuions to me\n",
            "Tell me more.\n",
            "why are u here'\n",
            "I heard the coffee is good.\n",
            "tell me something about your plannety\n",
            "Why?\n",
            "about your plannet\n",
            "Interesting. Can you tell me more?\n",
            "about your planet\n",
            "My planet is a utopia of diverse organisms and species.\n",
            "bye\n",
            "Ok, have a nice Earth day!\n"
          ]
        }
      ]
    }
  ]
}